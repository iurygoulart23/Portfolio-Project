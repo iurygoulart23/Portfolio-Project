{
 "cells": [
  {
   "cell_type": "markdown",
   "metadata": {},
   "source": [
    "# *Date a Cientist*\n",
    "\n",
    "Main goal: Create machine learning models to make a prediction about relationship app users. In the real world, the app uses predictions like this to estimate compatibility among users and then suggest matches. The specific goal here is to compare and contrast the performance of supervised machine learning models to predict the religious preference of users based on other aspects of their profiles. A supplemental -learning- exercise is to see whether a natural language processing model can predict which user wrote a very brief essay.\n",
    "\n",
    "## In this project i will analyse a dataset with some tools like NLP and Machine Learning Models\n",
    "### For this project i used:\n",
    "- Matplotlib\n",
    "- Pandas\n",
    "- NumPy\n",
    "- Sklearn library\n",
    "- KMeans classifier\n",
    "- Logistic Regression classifier\n",
    "- Decision Tree classifier\n",
    "- Random Forest classifier\n",
    "- Confusion Matrix\n",
    "- Scipy Stats\n",
    "\n",
    "With the analytics from the various columns that we have we could to get some insights to every aspect that we need"
   ]
  },
  {
   "cell_type": "code",
   "execution_count": 249,
   "metadata": {},
   "outputs": [],
   "source": [
    "# importing the libraries that i will use at this project\n",
    "from matplotlib import pyplot as plt\n",
    "import pandas as pd\n",
    "import seaborn as sns\n",
    "import numpy as np\n",
    "from sklearn.cluster import KMeans\n",
    "from sklearn.feature_extraction.text import CountVectorizer\n",
    "from sklearn.naive_bayes import MultinomialNB\n",
    "from scipy.stats import chi2_contingency\n",
    "from sklearn.utils import resample\n",
    "from sklearn.model_selection import train_test_split\n",
    "from sklearn.linear_model import LogisticRegression\n",
    "from sklearn.metrics import classification_report, confusion_matrix, PrecisionRecallDisplay\n",
    "from sklearn.datasets import make_classification\n",
    "from sklearn.neighbors import KNeighborsClassifier\n",
    "from sklearn.tree import DecisionTreeClassifier\n",
    "from sklearn.ensemble import RandomForestClassifier"
   ]
  },
  {
   "cell_type": "code",
   "execution_count": 199,
   "metadata": {},
   "outputs": [],
   "source": [
    "# loading the dataset\n",
    "df = pd.read_csv('profiles.csv', header=0)"
   ]
  },
  {
   "cell_type": "markdown",
   "metadata": {},
   "source": [
    "### Let's see what we got at this dataset"
   ]
  },
  {
   "cell_type": "code",
   "execution_count": 256,
   "metadata": {},
   "outputs": [
    {
     "name": "stdout",
     "output_type": "stream",
     "text": [
      "   age       body_type               diet    drinks      drugs  \\\n",
      "0   22  a little extra  strictly anything  socially      never   \n",
      "1   35         average       mostly other     often  sometimes   \n",
      "2   38            thin           anything  socially        NaN   \n",
      "3   23            thin         vegetarian  socially        NaN   \n",
      "4   29        athletic                NaN  socially      never   \n",
      "\n",
      "                           education  \\\n",
      "0      working on college/university   \n",
      "1              working on space camp   \n",
      "2     graduated from masters program   \n",
      "3      working on college/university   \n",
      "4  graduated from college/university   \n",
      "\n",
      "                                              essay0  \\\n",
      "0  about me:<br />\\n<br />\\ni would love to think...   \n",
      "1  i am a chef: this is what that means.<br />\\n1...   \n",
      "2  i'm not ashamed of much, but writing public te...   \n",
      "3          i work in a library and go to school. . .   \n",
      "4  hey how's it going? currently vague on the pro...   \n",
      "\n",
      "                                              essay1  \\\n",
      "0  currently working as an international agent fo...   \n",
      "1  dedicating everyday to being an unbelievable b...   \n",
      "2  i make nerdy software for musicians, artists, ...   \n",
      "3          reading things written by old dead people   \n",
      "4                         work work work work + play   \n",
      "\n",
      "                                              essay2  \\\n",
      "0  making people laugh.<br />\\nranting about a go...   \n",
      "1  being silly. having ridiculous amonts of fun w...   \n",
      "2  improvising in different contexts. alternating...   \n",
      "3  playing synthesizers and organizing books acco...   \n",
      "4  creating imagery to look at:<br />\\nhttp://bag...   \n",
      "\n",
      "                                              essay3  ...  \\\n",
      "0  the way i look. i am a six foot half asian, ha...  ...   \n",
      "1                                                NaN  ...   \n",
      "2  my large jaw and large glasses are the physica...  ...   \n",
      "3                  socially awkward but i do my best  ...   \n",
      "4            i smile a lot and my inquisitive nature  ...   \n",
      "\n",
      "                          location  \\\n",
      "0  south san francisco, california   \n",
      "1              oakland, california   \n",
      "2        san francisco, california   \n",
      "3             berkeley, california   \n",
      "4        san francisco, california   \n",
      "\n",
      "                                      offspring orientation  \\\n",
      "0  doesn&rsquo;t have kids, but might want them    straight   \n",
      "1  doesn&rsquo;t have kids, but might want them    straight   \n",
      "2                                           NaN    straight   \n",
      "3                       doesn&rsquo;t want kids    straight   \n",
      "4                                           NaN    straight   \n",
      "\n",
      "                        pets                                  religion sex  \\\n",
      "0  likes dogs and likes cats     agnosticism and very serious about it   m   \n",
      "1  likes dogs and likes cats  agnosticism but not too serious about it   m   \n",
      "2                   has cats                                       NaN   m   \n",
      "3                 likes cats                                       NaN   m   \n",
      "4  likes dogs and likes cats                                       NaN   m   \n",
      "\n",
      "                                 sign     smokes  \\\n",
      "0                              gemini  sometimes   \n",
      "1                              cancer         no   \n",
      "2  pisces but it doesn&rsquo;t matter         no   \n",
      "3                              pisces         no   \n",
      "4                            aquarius         no   \n",
      "\n",
      "                                              speaks     status  \n",
      "0                                            english     single  \n",
      "1  english (fluently), spanish (poorly), french (...     single  \n",
      "2                               english, french, c++  available  \n",
      "3                           english, german (poorly)     single  \n",
      "4                                            english     single  \n",
      "\n",
      "[5 rows x 31 columns] \n",
      "\n",
      "age               int64\n",
      "body_type        object\n",
      "diet             object\n",
      "drinks           object\n",
      "drugs            object\n",
      "education        object\n",
      "essay0           object\n",
      "essay1           object\n",
      "essay2           object\n",
      "essay3           object\n",
      "essay4           object\n",
      "essay5           object\n",
      "essay6           object\n",
      "essay7           object\n",
      "essay8           object\n",
      "essay9           object\n",
      "ethnicity        object\n",
      "height          float64\n",
      "income            int64\n",
      "job              object\n",
      "last_online      object\n",
      "location         object\n",
      "offspring        object\n",
      "orientation      object\n",
      "pets           category\n",
      "religion         object\n",
      "sex              object\n",
      "sign             object\n",
      "smokes           object\n",
      "speaks           object\n",
      "status           object\n",
      "dtype: object \n",
      "\n",
      "Index(['age', 'body_type', 'diet', 'drinks', 'drugs', 'education', 'essay0',\n",
      "       'essay1', 'essay2', 'essay3', 'essay4', 'essay5', 'essay6', 'essay7',\n",
      "       'essay8', 'essay9', 'ethnicity', 'height', 'income', 'job',\n",
      "       'last_online', 'location', 'offspring', 'orientation', 'pets',\n",
      "       'religion', 'sex', 'sign', 'smokes', 'speaks', 'status'],\n",
      "      dtype='object')\n"
     ]
    }
   ],
   "source": [
    "print(df.head(), '\\n')\n",
    "print(df.dtypes, '\\n')\n",
    "print(df.columns)"
   ]
  },
  {
   "cell_type": "markdown",
   "metadata": {},
   "source": [
    "### Exploring the data\n",
    "\n",
    "I'll check the quantity of categories each column have. This will be important to my next approach"
   ]
  },
  {
   "cell_type": "code",
   "execution_count": 201,
   "metadata": {},
   "outputs": [
    {
     "name": "stdout",
     "output_type": "stream",
     "text": [
      "Column BODY_TYPE has 12 categories\n",
      "Column DIET has 18 categories\n",
      "Column DRINKS has 6 categories\n",
      "Column DRUGS has 3 categories\n",
      "Column EDUCATION has 32 categories\n",
      "Column ESSAY0 has 54350 categories\n",
      "Column ESSAY1 has 51516 categories\n",
      "Column ESSAY2 has 48635 categories\n",
      "Column ESSAY3 has 43533 categories\n",
      "Column ESSAY4 has 49260 categories\n",
      "Column ESSAY5 has 48963 categories\n",
      "Column ESSAY6 has 43603 categories\n",
      "Column ESSAY7 has 45554 categories\n",
      "Column ESSAY8 has 39324 categories\n",
      "Column ESSAY9 has 45443 categories\n",
      "Column ETHNICITY has 217 categories\n",
      "Column JOB has 21 categories\n",
      "Column LAST_ONLINE has 30123 categories\n",
      "Column LOCATION has 199 categories\n",
      "Column OFFSPRING has 15 categories\n",
      "Column ORIENTATION has 3 categories\n",
      "Column PETS has 15 categories\n",
      "Column RELIGION has 45 categories\n",
      "Column SEX has 2 categories\n",
      "Column SIGN has 48 categories\n",
      "Column SMOKES has 5 categories\n",
      "Column SPEAKS has 7647 categories\n",
      "Column STATUS has 5 categories\n"
     ]
    }
   ],
   "source": [
    "df_cols = []\n",
    "for column in df.columns:\n",
    "    if df[column].dtypes == 'object':\n",
    "        df_cols.append(column)\n",
    "        print(f'Column {column.upper()} has {df[column].nunique()} categories')   "
   ]
  },
  {
   "cell_type": "markdown",
   "metadata": {},
   "source": [
    "### *Creating a function to count how many null values that we have*\n",
    "Them the function will drop the NaN's value and print the quantity of drops"
   ]
  },
  {
   "cell_type": "code",
   "execution_count": 202,
   "metadata": {},
   "outputs": [],
   "source": [
    "def clean_count_variables(column):\n",
    "    before_clean = df[column].isnull().sum()\n",
    "    clean_column = df[column].dropna()\n",
    "    after_clean = len(df[column])\n",
    "    col_entries = list(clean_column.unique())\n",
    "    print('For column {}, {} entries remain after {} NaNs deleted'.format(column.upper(), after_clean, before_clean))\n",
    "    print('The categories that have left over are:', '\\n', sorted(col_entries), '\\n')\n"
   ]
  },
  {
   "cell_type": "markdown",
   "metadata": {},
   "source": [
    "### Body type\n",
    "Using our function on body_type"
   ]
  },
  {
   "cell_type": "code",
   "execution_count": 203,
   "metadata": {},
   "outputs": [
    {
     "name": "stdout",
     "output_type": "stream",
     "text": [
      "For column BODY_TYPE, 59946 entries remain after 5296 NaNs deleted\n",
      "The categories that have left over are: \n",
      " ['a little extra', 'athletic', 'average', 'curvy', 'fit', 'full figured', 'jacked', 'overweight', 'rather not say', 'skinny', 'thin', 'used up'] \n",
      "\n",
      "average           14652\n",
      "fit               12711\n",
      "athletic          11819\n",
      "thin               4711\n",
      "curvy              3924\n",
      "a little extra     2629\n",
      "skinny             1777\n",
      "full figured       1009\n",
      "overweight          444\n",
      "jacked              421\n",
      "used up             355\n",
      "rather not say      198\n",
      "Name: body_type, dtype: int64\n"
     ]
    }
   ],
   "source": [
    "clean_count_variables('body_type')\n",
    "\n",
    "print(df.body_type.value_counts())"
   ]
  },
  {
   "cell_type": "markdown",
   "metadata": {},
   "source": [
    "### Diet\n",
    "Using our function on diet"
   ]
  },
  {
   "cell_type": "code",
   "execution_count": 204,
   "metadata": {},
   "outputs": [
    {
     "name": "stdout",
     "output_type": "stream",
     "text": [
      "For column DIET, 59946 entries remain after 24395 NaNs deleted\n",
      "The categories that have left over are: \n",
      " ['anything', 'halal', 'kosher', 'mostly anything', 'mostly halal', 'mostly kosher', 'mostly other', 'mostly vegan', 'mostly vegetarian', 'other', 'strictly anything', 'strictly halal', 'strictly kosher', 'strictly other', 'strictly vegan', 'strictly vegetarian', 'vegan', 'vegetarian'] \n",
      "\n",
      "mostly anything        16585\n",
      "anything                6183\n",
      "strictly anything       5113\n",
      "mostly vegetarian       3444\n",
      "mostly other            1007\n",
      "strictly vegetarian      875\n",
      "vegetarian               667\n",
      "strictly other           452\n",
      "mostly vegan             338\n",
      "other                    331\n",
      "strictly vegan           228\n",
      "vegan                    136\n",
      "mostly kosher             86\n",
      "mostly halal              48\n",
      "strictly halal            18\n",
      "strictly kosher           18\n",
      "halal                     11\n",
      "kosher                    11\n",
      "Name: diet, dtype: int64\n"
     ]
    }
   ],
   "source": [
    "clean_count_variables('diet')\n",
    "\n",
    "print(df.diet.value_counts())"
   ]
  },
  {
   "cell_type": "markdown",
   "metadata": {},
   "source": [
    "### Drinks\n",
    "Using our function on drinks"
   ]
  },
  {
   "cell_type": "code",
   "execution_count": 205,
   "metadata": {},
   "outputs": [
    {
     "name": "stdout",
     "output_type": "stream",
     "text": [
      "For column DRINKS, 59946 entries remain after 2985 NaNs deleted\n",
      "The categories that have left over are: \n",
      " ['desperately', 'not at all', 'often', 'rarely', 'socially', 'very often'] \n",
      "\n",
      "socially       41780\n",
      "rarely          5957\n",
      "often           5164\n",
      "not at all      3267\n",
      "very often       471\n",
      "desperately      322\n",
      "Name: drinks, dtype: int64\n"
     ]
    }
   ],
   "source": [
    "clean_count_variables('drinks')\n",
    "\n",
    "print(df.drinks.value_counts())"
   ]
  },
  {
   "cell_type": "markdown",
   "metadata": {},
   "source": [
    "### Drugs"
   ]
  },
  {
   "cell_type": "code",
   "execution_count": 206,
   "metadata": {},
   "outputs": [
    {
     "name": "stdout",
     "output_type": "stream",
     "text": [
      "For column DRUGS, 59946 entries remain after 14080 NaNs deleted\n",
      "The categories that have left over are: \n",
      " ['never', 'often', 'sometimes'] \n",
      "\n",
      "never        37724\n",
      "sometimes     7732\n",
      "often          410\n",
      "Name: drugs, dtype: int64\n"
     ]
    }
   ],
   "source": [
    "clean_count_variables('drugs')\n",
    "\n",
    "print(df.drugs.value_counts())"
   ]
  },
  {
   "cell_type": "markdown",
   "metadata": {},
   "source": [
    "### Education"
   ]
  },
  {
   "cell_type": "code",
   "execution_count": 207,
   "metadata": {},
   "outputs": [
    {
     "name": "stdout",
     "output_type": "stream",
     "text": [
      "For column EDUCATION, 59946 entries remain after 6628 NaNs deleted\n",
      "The categories that have left over are: \n",
      " ['college/university', 'dropped out of college/university', 'dropped out of high school', 'dropped out of law school', 'dropped out of masters program', 'dropped out of med school', 'dropped out of ph.d program', 'dropped out of space camp', 'dropped out of two-year college', 'graduated from college/university', 'graduated from high school', 'graduated from law school', 'graduated from masters program', 'graduated from med school', 'graduated from ph.d program', 'graduated from space camp', 'graduated from two-year college', 'high school', 'law school', 'masters program', 'med school', 'ph.d program', 'space camp', 'two-year college', 'working on college/university', 'working on high school', 'working on law school', 'working on masters program', 'working on med school', 'working on ph.d program', 'working on space camp', 'working on two-year college'] \n",
      "\n",
      "graduated from college/university    23959\n",
      "graduated from masters program        8961\n",
      "working on college/university         5712\n",
      "working on masters program            1683\n",
      "graduated from two-year college       1531\n",
      "graduated from high school            1428\n",
      "graduated from ph.d program           1272\n",
      "graduated from law school             1122\n",
      "working on two-year college           1074\n",
      "dropped out of college/university      995\n",
      "working on ph.d program                983\n",
      "college/university                     801\n",
      "graduated from space camp              657\n",
      "dropped out of space camp              523\n",
      "graduated from med school              446\n",
      "working on space camp                  445\n",
      "working on law school                  269\n",
      "two-year college                       222\n",
      "working on med school                  212\n",
      "dropped out of two-year college        191\n",
      "dropped out of masters program         140\n",
      "masters program                        136\n",
      "dropped out of ph.d program            127\n",
      "dropped out of high school             102\n",
      "high school                             96\n",
      "working on high school                  87\n",
      "space camp                              58\n",
      "ph.d program                            26\n",
      "law school                              19\n",
      "dropped out of law school               18\n",
      "dropped out of med school               12\n",
      "med school                              11\n",
      "Name: education, dtype: int64\n"
     ]
    }
   ],
   "source": [
    "clean_count_variables('education')\n",
    "\n",
    "print(df.education.value_counts())"
   ]
  },
  {
   "cell_type": "markdown",
   "metadata": {},
   "source": [
    "### Job"
   ]
  },
  {
   "cell_type": "code",
   "execution_count": 208,
   "metadata": {},
   "outputs": [
    {
     "name": "stdout",
     "output_type": "stream",
     "text": [
      "For column JOB, 59946 entries remain after 8198 NaNs deleted\n",
      "The categories that have left over are: \n",
      " ['artistic / musical / writer', 'banking / financial / real estate', 'clerical / administrative', 'computer / hardware / software', 'construction / craftsmanship', 'education / academia', 'entertainment / media', 'executive / management', 'hospitality / travel', 'law / legal services', 'medicine / health', 'military', 'other', 'political / government', 'rather not say', 'retired', 'sales / marketing / biz dev', 'science / tech / engineering', 'student', 'transportation', 'unemployed'] \n",
      "\n",
      "other                                7589\n",
      "student                              4882\n",
      "science / tech / engineering         4848\n",
      "computer / hardware / software       4709\n",
      "artistic / musical / writer          4439\n",
      "sales / marketing / biz dev          4391\n",
      "medicine / health                    3680\n",
      "education / academia                 3513\n",
      "executive / management               2373\n",
      "banking / financial / real estate    2266\n",
      "entertainment / media                2250\n",
      "law / legal services                 1381\n",
      "hospitality / travel                 1364\n",
      "construction / craftsmanship         1021\n",
      "clerical / administrative             805\n",
      "political / government                708\n",
      "rather not say                        436\n",
      "transportation                        366\n",
      "unemployed                            273\n",
      "retired                               250\n",
      "military                              204\n",
      "Name: job, dtype: int64\n"
     ]
    }
   ],
   "source": [
    "clean_count_variables('job')\n",
    "\n",
    "print(df.job.value_counts())"
   ]
  },
  {
   "cell_type": "markdown",
   "metadata": {},
   "source": [
    "### Location"
   ]
  },
  {
   "cell_type": "code",
   "execution_count": 209,
   "metadata": {},
   "outputs": [],
   "source": [
    "# clean_count_variables('location')\n",
    "# that variable dont have NaN's value"
   ]
  },
  {
   "cell_type": "markdown",
   "metadata": {},
   "source": [
    "### Age"
   ]
  },
  {
   "cell_type": "code",
   "execution_count": 210,
   "metadata": {},
   "outputs": [
    {
     "name": "stdout",
     "output_type": "stream",
     "text": [
      "For column AGE, 59946 entries remain after 0 NaNs deleted\n",
      "The categories that have left over are: \n",
      " [18, 19, 20, 21, 22, 23, 24, 25, 26, 27, 28, 29, 30, 31, 32, 33, 34, 35, 36, 37, 38, 39, 40, 41, 42, 43, 44, 45, 46, 47, 48, 49, 50, 51, 52, 53, 54, 55, 56, 57, 58, 59, 60, 61, 62, 63, 64, 65, 66, 67, 68, 69, 109, 110] \n",
      "\n",
      "count    59946.000000\n",
      "mean        32.340290\n",
      "std          9.452779\n",
      "min         18.000000\n",
      "25%         26.000000\n",
      "50%         30.000000\n",
      "75%         37.000000\n",
      "max        110.000000\n",
      "Name: age, dtype: float64\n"
     ]
    },
    {
     "data": {
      "image/png": "[encoded data removed]",
      "text/plain": [
       "<Figure size 360x360 with 1 Axes>"
      ]
     },
     "metadata": {},
     "output_type": "display_data"
    },
    {
     "data": {
      "text/plain": [
       "<Figure size 792x576 with 0 Axes>"
      ]
     },
     "metadata": {},
     "output_type": "display_data"
    }
   ],
   "source": [
    "clean_count_variables('age')\n",
    "\n",
    "print(df.age.describe())\n",
    "\n",
    "sns.set(rc={'figure.figsize':(11, 8)})\n",
    "sns.displot(data=df, x='age', kind='hist', multiple='stack', hue='sex', legend=False)\n",
    "plt.legend(['female', 'male'])\n",
    "plt.show()\n",
    "plt.clf()"
   ]
  },
  {
   "cell_type": "markdown",
   "metadata": {},
   "source": [
    "### Income\n",
    "Exploring the variable with our function "
   ]
  },
  {
   "cell_type": "code",
   "execution_count": 211,
   "metadata": {},
   "outputs": [
    {
     "name": "stdout",
     "output_type": "stream",
     "text": [
      "For column INCOME, 59946 entries remain after 0 NaNs deleted\n",
      "The categories that have left over are: \n",
      " [-1, 20000, 30000, 40000, 50000, 60000, 70000, 80000, 100000, 150000, 250000, 500000, 1000000] \n",
      "\n",
      "The number of null values in the column \"income\" are 48442 or 80.81%\n",
      "(11504, 31)\n",
      "count      11504.000000\n",
      "mean      104394.993046\n",
      "std       201433.528307\n",
      "min        20000.000000\n",
      "25%        20000.000000\n",
      "50%        50000.000000\n",
      "75%       100000.000000\n",
      "max      1000000.000000\n",
      "Name: income, dtype: float64\n"
     ]
    },
    {
     "data": {
      "image/png": "[encoded data removed]",
      "text/plain": [
       "<Figure size 360x360 with 1 Axes>"
      ]
     },
     "metadata": {},
     "output_type": "display_data"
    },
    {
     "data": {
      "text/plain": [
       "<Figure size 792x576 with 0 Axes>"
      ]
     },
     "metadata": {},
     "output_type": "display_data"
    }
   ],
   "source": [
    "clean_count_variables('income')\n",
    "# As we can see we have the age -1, so -1 would be the NaN value, lets explore this\n",
    "\n",
    "count_nulls_inc = (df[df['income'] == -1])['income'].count()\n",
    "print(f'The number of null values in the column \"income\" are {count_nulls_inc} or {round((count_nulls_inc/len(df)*100),2)}%')\n",
    "\n",
    "df_inc = df[df['income'] != -1]\n",
    "print(df_inc.shape)\n",
    "print(df_inc['income'].describe())\n",
    "\n",
    "sns.set(rc={'figure.figsize':(11, 8)})\n",
    "sns.displot(data=df_inc, x='income', hue='sex', kind='hist', binwidth = 25000, multiple='stack', legend=False)\n",
    "plt.legend(['Female', 'Male'], loc='upper right')\n",
    "plt.show()\n",
    "plt.clf()"
   ]
  },
  {
   "cell_type": "markdown",
   "metadata": {},
   "source": [
    "### *Age*"
   ]
  },
  {
   "cell_type": "code",
   "execution_count": 212,
   "metadata": {},
   "outputs": [
    {
     "name": "stdout",
     "output_type": "stream",
     "text": [
      "For column AGE, 59946 entries remain after 0 NaNs deleted\n",
      "The categories that have left over are: \n",
      " [18, 19, 20, 21, 22, 23, 24, 25, 26, 27, 28, 29, 30, 31, 32, 33, 34, 35, 36, 37, 38, 39, 40, 41, 42, 43, 44, 45, 46, 47, 48, 49, 50, 51, 52, 53, 54, 55, 56, 57, 58, 59, 60, 61, 62, 63, 64, 65, 66, 67, 68, 69, 109, 110] \n",
      "\n",
      "count    59946.000000\n",
      "mean        32.340290\n",
      "std          9.452779\n",
      "min         18.000000\n",
      "25%         26.000000\n",
      "50%         30.000000\n",
      "75%         37.000000\n",
      "max        110.000000\n",
      "Name: age, dtype: float64 \n",
      "\n"
     ]
    },
    {
     "data": {
      "image/png": "[encoded data removed]",
      "text/plain": [
       "<Figure size 360x360 with 1 Axes>"
      ]
     },
     "metadata": {},
     "output_type": "display_data"
    },
    {
     "data": {
      "text/plain": [
       "<Figure size 792x576 with 0 Axes>"
      ]
     },
     "metadata": {},
     "output_type": "display_data"
    }
   ],
   "source": [
    "clean_count_variables('age')\n",
    "\n",
    "print(df.age.describe(), '\\n')\n",
    "\n",
    "\n",
    "sns.set(rc={'figure.figsize':(11, 8)})\n",
    "sns.displot(data=df, x='age', kind='hist', binwidth=3, hue='sex', multiple='stack', legend=False)\n",
    "plt.legend(['Female', 'Male'], loc='upper right')\n",
    "plt.show()\n",
    "plt.clf()\n"
   ]
  },
  {
   "cell_type": "markdown",
   "metadata": {},
   "source": [
    "### *Sex*"
   ]
  },
  {
   "cell_type": "code",
   "execution_count": 213,
   "metadata": {},
   "outputs": [
    {
     "name": "stdout",
     "output_type": "stream",
     "text": [
      "For column SEX, 59946 entries remain after 0 NaNs deleted\n",
      "The categories that have left over are: \n",
      " ['f', 'm'] \n",
      "\n",
      "m    35829\n",
      "f    24117\n",
      "Name: sex, dtype: int64 \n",
      "\n"
     ]
    },
    {
     "data": {
      "image/png": "[encoded data removed]",
      "text/plain": [
       "<Figure size 792x576 with 1 Axes>"
      ]
     },
     "metadata": {},
     "output_type": "display_data"
    },
    {
     "data": {
      "text/plain": [
       "<Figure size 792x576 with 0 Axes>"
      ]
     },
     "metadata": {},
     "output_type": "display_data"
    }
   ],
   "source": [
    "clean_count_variables('sex')\n",
    "print(df.sex.value_counts(), '\\n')\n",
    "\n",
    "color = sns.color_palette('pastel')[0:5]\n",
    "plt.pie(df['sex'].value_counts(), autopct='%.0f%%', colors=color)\n",
    "plt.title('Percentage of Males and Females', fontsize=14)\n",
    "plt.legend(['Male', 'Female'], loc='right')\n",
    "plt.show()\n",
    "plt.clf()"
   ]
  },
  {
   "cell_type": "markdown",
   "metadata": {},
   "source": [
    "### *Observations*\n",
    "We have many variables with many columns that can reagrouped for clarity.\n",
    "I think bag of words counter would be the best option to deal with this. "
   ]
  },
  {
   "cell_type": "markdown",
   "metadata": {},
   "source": [
    "- Using Chi-Square test to check if have association between the variables: `religion`, `drugs`, `drinks` and `smokes`"
   ]
  },
  {
   "cell_type": "code",
   "execution_count": 214,
   "metadata": {},
   "outputs": [
    {
     "name": "stdout",
     "output_type": "stream",
     "text": [
      "The new df_religion shape is: (30094, 31) \n",
      "\n",
      "belief     high belief  low belief\n",
      "drugs                             \n",
      "never            19802        4371\n",
      "sometimes         4595        1033\n",
      "often              208          85\n",
      "8.965022305044359e-06\n"
     ]
    }
   ],
   "source": [
    "#droping the null values\n",
    "df_religion = df.dropna(subset=['religion', 'drinks', 'drugs', 'smokes']).copy()\n",
    "print('The new df_religion shape is:', df_religion.shape, '\\n')\n",
    "\n",
    "def check_text(string):\n",
    "    if (string.__contains__('somewhat') | string.__contains__('very')):\n",
    "        return True\n",
    "\n",
    "df_religion['belief'] = df_religion.apply(lambda row: 'low belief' if check_text(row['religion']) else 'high belief', axis=1)\n",
    "\n",
    "df_religion['religion'] = pd.Categorical(df_religion['religion'],\\\n",
    "                        ['agnosticism and laughing about it',  'agnosticism but not too serious about it', \\\n",
    "                         'agnosticism', 'agnosticism and somewhat serious about it', 'agnosticism and very serious about it', \\\n",
    "                         'atheism and laughing about it', 'atheism but not too serious about it', \\\n",
    "                         'atheism', 'atheism and somewhat serious about it', 'atheism and very serious about it',  \\\n",
    "                         'buddhism and laughing about it', 'buddhism but not too serious about it', \\\n",
    "                         'buddhism', 'buddhism and somewhat serious about it', 'buddhism and very serious about it', \\\n",
    "                         'catholicism and laughing about it', 'catholicism but not too serious about it', \\\n",
    "                         'catholicism', 'catholicism and somewhat serious about it', 'catholicism and very serious about it', \\\n",
    "                         'christianity and laughing about it', 'christianity but not too serious about it',\\\n",
    "                         'christianity', 'christianity and somewhat serious about it', 'christianity and very serious about it',\\\n",
    "                         'hinduism and laughing about it', 'hinduism but not too serious about it', \\\n",
    "                         'hinduism', 'hinduism and somewhat serious about it', 'hinduism and very serious about it', \\\n",
    "                         'islam and laughing about it', 'islam but not too serious about it', \\\n",
    "                         'islam', 'islam and somewhat serious about it', 'islam and very serious about it', \\\n",
    "                         'judaism and laughing about it', 'judaism but not too serious about it', \\\n",
    "                         'judaism', 'judaism and somewhat serious about it', 'judaism and very serious about it', \\\n",
    "                         'other and laughing about it', 'other but not too serious about it', \\\n",
    "                         'other', 'other and somewhat serious about it', 'other and very serious about it'], ordered=True)\n",
    "\n",
    "df_religion['drugs'] = pd.Categorical(df_religion['drugs'], ['never', 'sometimes', 'often'], ordered=True)\n",
    "df_religion['drinks'] = pd.Categorical(df_religion['drinks'], ['not at all', 'rarely', 'socially', 'often', 'very often', 'desperately'], ordered=True)\n",
    "df_religion['smokes'] = pd.Categorical(df_religion['smokes'], ['no', 'sometimes', 'when drinking', 'trying to quit', 'yes'], ordered=True)\n",
    "\n",
    "ab_contingency = pd.crosstab(df_religion['drugs'], df_religion['belief'])\n",
    "print(ab_contingency)\n",
    "\n",
    "chi2, pval, dof, expected = chi2_contingency(ab_contingency)\n",
    "print(pval)"
   ]
  },
  {
   "cell_type": "markdown",
   "metadata": {},
   "source": [
    "### As we expected p value suggests a correlation between these four variables.\n",
    "- To testing i apply the model to the variables: `drugs` and `belief`"
   ]
  },
  {
   "cell_type": "code",
   "execution_count": 215,
   "metadata": {},
   "outputs": [
    {
     "name": "stdout",
     "output_type": "stream",
     "text": [
      "         belief  count    percent\n",
      "0   agnosticism   6307  20.957666\n",
      "1       atheism   4968  16.508274\n",
      "2      buddhism   1464   4.864757\n",
      "3   catholicism   3920  13.025852\n",
      "4  christianity   4996  16.601316\n",
      "5      hinduism    375   1.246096\n",
      "6         islam    110   0.365521\n",
      "7       judaism   2156   7.164219\n",
      "8         other   5798  19.266299\n"
     ]
    },
    {
     "data": {
      "image/png": "[encoded data removed]",
      "text/plain": [
       "<Figure size 792x576 with 1 Axes>"
      ]
     },
     "metadata": {},
     "output_type": "display_data"
    },
    {
     "data": {
      "text/plain": [
       "<Figure size 792x576 with 0 Axes>"
      ]
     },
     "metadata": {},
     "output_type": "display_data"
    }
   ],
   "source": [
    "# creating a counter for the each belief\n",
    "df_religion['belief_overall'] = df_religion['religion'].str.split().str.get(0)\n",
    "beliefs_overall = df_religion['belief_overall'].value_counts().sort_index().to_frame().reset_index()\n",
    "beliefs_overall.columns = ['belief', 'count']\n",
    "beliefs_overall['percent'] = beliefs_overall['count'].apply(lambda x: x / len(df_religion['belief_overall'])*100)\n",
    "\n",
    "print(beliefs_overall)\n",
    "\n",
    "sns.set(rc={'figure.figsize':(11, 8)})\n",
    "sns.barplot(data=beliefs_overall, x='belief', y='count')\n",
    "plt.title('Counter for each belief')\n",
    "plt.xlabel('religion')\n",
    "plt.xticks(rotation=45)\n",
    "plt.ylabel('counter')\n",
    "\n",
    "plt.show()\n",
    "plt.clf()"
   ]
  },
  {
   "cell_type": "markdown",
   "metadata": {},
   "source": [
    "### *Drug users*\n",
    "- Now i will explore the drugs variable and calculate the percentage of drug users "
   ]
  },
  {
   "cell_type": "code",
   "execution_count": 216,
   "metadata": {},
   "outputs": [
    {
     "name": "stdout",
     "output_type": "stream",
     "text": [
      "       index     drugs    percent\n",
      "0      never  0.803250  80.324982\n",
      "1  sometimes  0.187014  18.701402\n",
      "2      often  0.009736   0.973616\n"
     ]
    },
    {
     "data": {
      "image/png": "[encoded data removed]",
      "text/plain": [
       "<Figure size 576x432 with 1 Axes>"
      ]
     },
     "metadata": {},
     "output_type": "display_data"
    },
    {
     "data": {
      "text/plain": [
       "<Figure size 576x432 with 0 Axes>"
      ]
     },
     "metadata": {},
     "output_type": "display_data"
    }
   ],
   "source": [
    "drug_counter = df_religion['drugs'].value_counts(normalize=True).reset_index()\n",
    "drug_counter['percent'] = drug_counter.apply(lambda x: x['drugs'] *100, axis=1)\n",
    "\n",
    "print(drug_counter)\n",
    "\n",
    "sns.set(rc={'figure.figsize':(8, 6)})\n",
    "sns.barplot(data=drug_counter, x='percent', y='index')\n",
    "plt.xlabel('percent')\n",
    "plt.ylabel('Frequency')\n",
    "plt.title('Percentage of drugs users')\n",
    "plt.show()\n",
    "plt.clf()"
   ]
  },
  {
   "cell_type": "code",
   "execution_count": 217,
   "metadata": {},
   "outputs": [
    {
     "name": "stdout",
     "output_type": "stream",
     "text": [
      "         index    drinks    percent\n",
      "0     socially  0.691600  69.159965\n",
      "1       rarely  0.127235  12.723466\n",
      "2        often  0.088556   8.855586\n",
      "3   not at all  0.077324   7.732438\n",
      "4   very often  0.009603   0.960324\n",
      "5  desperately  0.005682   0.568220\n"
     ]
    },
    {
     "data": {
      "image/png": "[encoded data removed]",
      "text/plain": [
       "<Figure size 792x576 with 1 Axes>"
      ]
     },
     "metadata": {},
     "output_type": "display_data"
    },
    {
     "data": {
      "text/plain": [
       "<Figure size 792x576 with 0 Axes>"
      ]
     },
     "metadata": {},
     "output_type": "display_data"
    }
   ],
   "source": [
    "drink_counter = df_religion['drinks'].value_counts(normalize=True).reset_index()\n",
    "drink_counter['percent'] = drink_counter.apply(lambda x: x['drinks'] *100, axis=1)\n",
    "\n",
    "print(drink_counter)\n",
    "\n",
    "sns.set(rc={'figure.figsize':(11, 8)})\n",
    "sns.barplot(data=drink_counter, x='percent', y='index')\n",
    "plt.xlabel('percent')\n",
    "plt.ylabel('Frequency')\n",
    "plt.title('Percentage of alcohol users')\n",
    "plt.show()\n",
    "plt.clf()"
   ]
  },
  {
   "cell_type": "code",
   "execution_count": 218,
   "metadata": {},
   "outputs": [
    {
     "name": "stdout",
     "output_type": "stream",
     "text": [
      "            index    smokes    percent\n",
      "0              no  0.810128  81.012826\n",
      "1       sometimes  0.067655   6.765468\n",
      "2   when drinking  0.052402   5.240247\n",
      "3             yes  0.041968   4.196850\n",
      "4  trying to quit  0.027846   2.784608\n"
     ]
    },
    {
     "data": {
      "image/png": "[encoded data removed]",
      "text/plain": [
       "<Figure size 792x576 with 1 Axes>"
      ]
     },
     "metadata": {},
     "output_type": "display_data"
    },
    {
     "data": {
      "text/plain": [
       "<Figure size 792x576 with 0 Axes>"
      ]
     },
     "metadata": {},
     "output_type": "display_data"
    }
   ],
   "source": [
    "smoke_counter = df_religion['smokes'].value_counts(normalize=True).reset_index()\n",
    "smoke_counter['percent'] = smoke_counter.apply(lambda x: x['smokes'] *100, axis=1)\n",
    "\n",
    "print(smoke_counter)\n",
    "\n",
    "sns.set(rc={'figure.figsize':(11, 8)})\n",
    "sns.barplot(data=smoke_counter, x='percent', y='index')\n",
    "plt.xlabel('percent')\n",
    "plt.ylabel('Frequency')\n",
    "plt.title('Percentage of smokers')\n",
    "plt.show()\n",
    "plt.clf()"
   ]
  },
  {
   "cell_type": "code",
   "execution_count": 219,
   "metadata": {},
   "outputs": [
    {
     "name": "stdout",
     "output_type": "stream",
     "text": [
      "For column PETS, 59946 entries remain after 19921 NaNs deleted\n",
      "The categories that have left over are: \n",
      " ['dislikes cats', 'dislikes dogs', 'dislikes dogs and dislikes cats', 'dislikes dogs and has cats', 'dislikes dogs and likes cats', 'has cats', 'has dogs', 'has dogs and dislikes cats', 'has dogs and has cats', 'has dogs and likes cats', 'likes cats', 'likes dogs', 'likes dogs and dislikes cats', 'likes dogs and has cats', 'likes dogs and likes cats'] \n",
      "\n",
      "                     pet_preference     ratio    percent\n",
      "0         likes dogs and likes cats  0.370119  37.011868\n",
      "1                        likes dogs  0.180487  18.048720\n",
      "2           likes dogs and has cats  0.107758  10.775765\n",
      "3                          has dogs  0.103285  10.328545\n",
      "4           has dogs and likes cats  0.058289   5.828857\n",
      "5      likes dogs and dislikes cats  0.050693   5.069332\n",
      "6             has dogs and has cats  0.036827   3.682698\n",
      "7                          has cats  0.035128   3.512804\n",
      "8                        likes cats  0.026558   2.655840\n",
      "9        has dogs and dislikes cats  0.013791   1.379138\n",
      "10     dislikes dogs and likes cats  0.005996   0.599625\n",
      "11  dislikes dogs and dislikes cats  0.004897   0.489694\n",
      "12                    dislikes cats  0.003048   0.304809\n",
      "13       dislikes dogs and has cats  0.002024   0.202374\n",
      "14                    dislikes dogs  0.001099   0.109931\n"
     ]
    },
    {
     "data": {
      "image/png": "[encoded data removed]",
      "text/plain": [
       "<Figure size 792x576 with 1 Axes>"
      ]
     },
     "metadata": {},
     "output_type": "display_data"
    },
    {
     "data": {
      "text/plain": [
       "<Figure size 792x576 with 0 Axes>"
      ]
     },
     "metadata": {},
     "output_type": "display_data"
    }
   ],
   "source": [
    "clean_count_variables('pets')\n",
    "\n",
    "df['pets'] = pd.Categorical(\n",
    "    df['pets'], ['dislikes cats', 'dislikes dogs', 'dislikes dogs and dislikes cats',\n",
    "    'dislikes dogs and has cats', 'dislikes dogs and likes cats', 'has cats',\n",
    "    'has dogs', 'has dogs and dislikes cats', 'has dogs and has cats', 'has dogs and likes cats', \n",
    "    'likes cats', 'likes dogs', 'likes dogs and dislikes cats', 'likes dogs and has cats', \n",
    "    'likes dogs and likes cats'], ordered=True)\n",
    "\n",
    "df_pets = df['pets'].value_counts(normalize=True).reset_index()\n",
    "df_pets.rename(columns = {'index': 'pet_preference', 'pets': 'ratio'}, inplace=True)\n",
    "df_pets['percent'] = df_pets.apply(lambda x: x['ratio']*100, axis=1)\n",
    "\n",
    "print(df_pets)\n",
    "\n",
    "sns.set(rc={'figure.figsize':(11, 8)})\n",
    "sns.barplot(data=df_pets, x='percent', y='pet_preference')\n",
    "plt.xlabel('Percent')\n",
    "plt.ylabel('Pet Preference')\n",
    "plt.title('Users\\' Pets')\n",
    "plt.show()\n",
    "plt.clf()"
   ]
  },
  {
   "cell_type": "markdown",
   "metadata": {},
   "source": [
    "### *Natural Language Processing*"
   ]
  },
  {
   "cell_type": "code",
   "execution_count": 220,
   "metadata": {},
   "outputs": [
    {
     "name": "stdout",
     "output_type": "stream",
     "text": [
      "(29866, 10)\n"
     ]
    }
   ],
   "source": [
    "df_essays = df[['essay0', 'essay1', 'essay2', 'essay3', 'essay4', 'essay5', 'essay6', 'essay7', 'essay8', 'essay9']].dropna()\n",
    "\n",
    "print(df_essays.shape)"
   ]
  },
  {
   "cell_type": "code",
   "execution_count": 221,
   "metadata": {},
   "outputs": [
    {
     "name": "stdout",
     "output_type": "stream",
     "text": [
      "For index 0 predicted [8]\n",
      "For index 1 predicted [7]\n",
      "For index 2 predicted [8]\n",
      "For index 3 predicted [2]\n",
      "For index 4 predicted [8]\n",
      "For index 5 predicted [8]\n",
      "For index 6 predicted [7]\n",
      "For index 7 predicted [8]\n",
      "For index 8 predicted [8]: MATCH!!!\n",
      "For index 9 predicted [8]\n",
      "Correct ratio is: 0.1\n"
     ]
    }
   ],
   "source": [
    "training_essays = []\n",
    "test_essays = []\n",
    "user_labels = []\n",
    "test_labels = []\n",
    "ten_users = df_essays.sample(n=10).reset_index(drop=True)\n",
    "\n",
    "for i in range(len(ten_users)):\n",
    "    rand_index = np.random.randint(10, size = 1)\n",
    "    for j in range(len(ten_users.columns)):        \n",
    "        if j not in rand_index:\n",
    "            training_essays.append(ten_users.iloc[i, j])\n",
    "            user_labels.append(i)\n",
    "        else:\n",
    "            test_essays.append(ten_users.iloc[i, j])\n",
    "            test_labels.append(i)\n",
    "\n",
    "bow_vectorizer = CountVectorizer()\n",
    "user_vectors = bow_vectorizer.fit_transform(training_essays)\n",
    "\n",
    "user_classifier = MultinomialNB()\n",
    "user_classifier.fit(user_vectors, user_labels)\n",
    "\n",
    "correct = 0\n",
    "for i in range(10):\n",
    "    test_vector = bow_vectorizer.transform([test_essays[i]])\n",
    "    prediction = user_classifier.predict(test_vector)\n",
    "    if prediction == i:\n",
    "        print(f'For index {i} predicted {prediction}: MATCH!!!')\n",
    "        correct += .1        \n",
    "    else:\n",
    "        print(f'For index {i} predicted {prediction}')\n",
    "    \n",
    "print(f'Correct ratio is: {correct}')"
   ]
  },
  {
   "cell_type": "markdown",
   "metadata": {},
   "source": [
    "### *Machine Learning*"
   ]
  },
  {
   "cell_type": "markdown",
   "metadata": {},
   "source": [
    "- Here i will clean the data to fit at the models\n",
    "- i will use differents machine learning models to compare them at the end"
   ]
  },
  {
   "cell_type": "code",
   "execution_count": 222,
   "metadata": {},
   "outputs": [
    {
     "data": {
      "text/plain": [
       "age                0\n",
       "body_type       5296\n",
       "diet           24395\n",
       "drinks          2985\n",
       "drugs          14080\n",
       "education       6628\n",
       "essay0          5488\n",
       "essay1          7572\n",
       "essay2          9638\n",
       "essay3         11476\n",
       "essay4         10537\n",
       "essay5         10850\n",
       "essay6         13771\n",
       "essay7         12451\n",
       "essay8         19225\n",
       "essay9         12603\n",
       "ethnicity       5680\n",
       "height             3\n",
       "income             0\n",
       "job             8198\n",
       "last_online        0\n",
       "location           0\n",
       "offspring      35561\n",
       "orientation        0\n",
       "pets           19921\n",
       "religion       20226\n",
       "sex                0\n",
       "sign           11056\n",
       "smokes          5512\n",
       "speaks            50\n",
       "status             0\n",
       "dtype: int64"
      ]
     },
     "execution_count": 222,
     "metadata": {},
     "output_type": "execute_result"
    }
   ],
   "source": [
    "df.isnull().sum()"
   ]
  },
  {
   "cell_type": "code",
   "execution_count": 223,
   "metadata": {},
   "outputs": [
    {
     "name": "stdout",
     "output_type": "stream",
     "text": [
      "(16509, 9)\n"
     ]
    }
   ],
   "source": [
    "columns = ['age', 'diet', 'drinks', 'drugs', 'ethnicity', 'smokes', 'orientation', 'sign', 'religion']\n",
    "labels = df[columns].dropna().copy()\n",
    "print(labels.shape)"
   ]
  },
  {
   "cell_type": "markdown",
   "metadata": {},
   "source": [
    "### After removing the NaN's value now lets clean our data to modeling"
   ]
  },
  {
   "cell_type": "code",
   "execution_count": 224,
   "metadata": {},
   "outputs": [
    {
     "name": "stdout",
     "output_type": "stream",
     "text": [
      "Age value counts: \n",
      " 25 to 29    4603\n",
      "18 to 24    3360\n",
      "30 to 34    3209\n",
      "40 to 49    2082\n",
      "35 to 39    1876\n",
      "50 to 59     955\n",
      "over 60      424\n",
      "Name: age, dtype: int64 \n",
      "\n",
      "Diet value counts: \n",
      " mostly anything        8302\n",
      "anything               2418\n",
      "strictly anything      2230\n",
      "mostly vegetarian      1546\n",
      "mostly other            541\n",
      "strictly vegetarian     437\n",
      "strictly other          232\n",
      "vegetarian              210\n",
      "other                   161\n",
      "mostly vegan            158\n",
      "strictly vegan          119\n",
      "mostly kosher            49\n",
      "vegan                    47\n",
      "mostly halal             30\n",
      "strictly kosher          10\n",
      "strictly halal            9\n",
      "halal                     5\n",
      "kosher                    5\n",
      "Name: diet, dtype: int64 \n",
      "\n",
      "Sign (cleaned) value counts: \n",
      " not serious    13585\n",
      "serious         2924\n",
      "Name: sign, dtype: int64 \n",
      "\n",
      "Religion value counts: \n",
      " agnosticism                                   2724\n",
      "other                                         2691\n",
      "agnosticism but not too serious about it      2636\n",
      "agnosticism and laughing about it             2496\n",
      "catholicism but not too serious about it      2318\n",
      "atheism                                       2175\n",
      "other and laughing about it                   2119\n",
      "atheism and laughing about it                 2074\n",
      "christianity                                  1957\n",
      "christianity but not too serious about it     1952\n",
      "other but not too serious about it            1554\n",
      "judaism but not too serious about it          1517\n",
      "atheism but not too serious about it          1318\n",
      "catholicism                                   1064\n",
      "christianity and somewhat serious about it     927\n",
      "atheism and somewhat serious about it          848\n",
      "other and somewhat serious about it            846\n",
      "catholicism and laughing about it              726\n",
      "judaism and laughing about it                  681\n",
      "buddhism but not too serious about it          650\n",
      "agnosticism and somewhat serious about it      642\n",
      "judaism                                        612\n",
      "christianity and very serious about it         578\n",
      "atheism and very serious about it              570\n",
      "catholicism and somewhat serious about it      548\n",
      "other and very serious about it                533\n",
      "buddhism and laughing about it                 466\n",
      "buddhism                                       403\n",
      "christianity and laughing about it             373\n",
      "buddhism and somewhat serious about it         359\n",
      "agnosticism and very serious about it          314\n",
      "judaism and somewhat serious about it          266\n",
      "hinduism but not too serious about it          227\n",
      "hinduism                                       107\n",
      "catholicism and very serious about it          102\n",
      "buddhism and very serious about it              70\n",
      "hinduism and somewhat serious about it          58\n",
      "islam                                           48\n",
      "hinduism and laughing about it                  44\n",
      "islam but not too serious about it              40\n",
      "judaism and very serious about it               22\n",
      "islam and somewhat serious about it             22\n",
      "islam and laughing about it                     16\n",
      "hinduism and very serious about it              14\n",
      "islam and very serious about it                 13\n",
      "Name: religion, dtype: int64 \n",
      "\n"
     ]
    }
   ],
   "source": [
    "# clean age variable\n",
    "labels['age'] = np.where((labels['age'] < 25), '18 to 24',\n",
    "                np.where((labels['age'] < 30), '25 to 29',\n",
    "                np.where((labels['age'] < 35), '30 to 34',\n",
    "                np.where((labels['age'] < 40), '35 to 39',\n",
    "                np.where((labels['age'] < 50), '40 to 49',\n",
    "                np.where((labels['age'] < 60), '50 to 59', 'over 60'))))))\n",
    "\n",
    "print('Age value counts:', '\\n', labels['age'].value_counts(), '\\n')\n",
    "\n",
    "# clean diet variable\n",
    "print('Diet value counts:', '\\n', labels['diet'].value_counts(), '\\n')\n",
    "\n",
    "# clean ethnicity variable\n",
    "labels['ethnicity'] = labels.apply(lambda x: (x['ethnicity'].split(','))[0], axis=1)\n",
    "\n",
    "# clean sign variable\n",
    "def check_text(string):\n",
    "    if (string.__contains__('fun') | string.__contains__('but')):\n",
    "        return True\n",
    "\n",
    "labels['sign'] = labels.apply(lambda x: 'not serious' if check_text(x['sign']) else 'serious', axis=1)\n",
    "print('Sign (cleaned) value counts:', '\\n', labels['sign'].value_counts(), '\\n')\n",
    "\n",
    "\n",
    "# clean religion variable\n",
    "labels['religion'] = labels['religion'].str.split().str.get(0)\n",
    "print('Religion value counts:', '\\n', df['religion'].value_counts(), '\\n')\n"
   ]
  },
  {
   "cell_type": "markdown",
   "metadata": {},
   "source": [
    "### Transforming our variable labels to dummy variables"
   ]
  },
  {
   "cell_type": "code",
   "execution_count": 225,
   "metadata": {},
   "outputs": [
    {
     "name": "stdout",
     "output_type": "stream",
     "text": [
      "0         agnosticism\n",
      "1         agnosticism\n",
      "7        christianity\n",
      "9             atheism\n",
      "11       christianity\n",
      "             ...     \n",
      "59930           other\n",
      "59936         atheism\n",
      "59942     agnosticism\n",
      "59943    christianity\n",
      "59944     agnosticism\n",
      "Name: religion, Length: 16509, dtype: object\n",
      "0         agnosticism\n",
      "1         agnosticism\n",
      "7        christianity\n",
      "9             atheism\n",
      "11       christianity\n",
      "             ...     \n",
      "59930           other\n",
      "59936         atheism\n",
      "59942     agnosticism\n",
      "59943    christianity\n",
      "59944     agnosticism\n",
      "Name: religion, Length: 16509, dtype: object\n"
     ]
    }
   ],
   "source": [
    "# # For all except the last column\n",
    "for column in columns[:-1]:\n",
    "    labels = pd.get_dummies(labels, columns=[column], prefix=[column])"
   ]
  },
  {
   "cell_type": "code",
   "execution_count": 226,
   "metadata": {},
   "outputs": [
    {
     "data": {
      "text/html": [
       "<div>\n",
       "<style scoped>\n",
       "    .dataframe tbody tr th:only-of-type {\n",
       "        vertical-align: middle;\n",
       "    }\n",
       "\n",
       "    .dataframe tbody tr th {\n",
       "        vertical-align: top;\n",
       "    }\n",
       "\n",
       "    .dataframe thead th {\n",
       "        text-align: right;\n",
       "    }\n",
       "</style>\n",
       "<table border=\"1\" class=\"dataframe\">\n",
       "  <thead>\n",
       "    <tr style=\"text-align: right;\">\n",
       "      <th></th>\n",
       "      <th>religion</th>\n",
       "      <th>age_18 to 24</th>\n",
       "      <th>age_25 to 29</th>\n",
       "      <th>age_30 to 34</th>\n",
       "      <th>age_35 to 39</th>\n",
       "      <th>age_40 to 49</th>\n",
       "      <th>age_50 to 59</th>\n",
       "      <th>age_over 60</th>\n",
       "      <th>diet_anything</th>\n",
       "      <th>diet_halal</th>\n",
       "      <th>...</th>\n",
       "      <th>smokes_no</th>\n",
       "      <th>smokes_sometimes</th>\n",
       "      <th>smokes_trying to quit</th>\n",
       "      <th>smokes_when drinking</th>\n",
       "      <th>smokes_yes</th>\n",
       "      <th>orientation_bisexual</th>\n",
       "      <th>orientation_gay</th>\n",
       "      <th>orientation_straight</th>\n",
       "      <th>sign_not serious</th>\n",
       "      <th>sign_serious</th>\n",
       "    </tr>\n",
       "  </thead>\n",
       "  <tbody>\n",
       "    <tr>\n",
       "      <th>0</th>\n",
       "      <td>agnosticism</td>\n",
       "      <td>1</td>\n",
       "      <td>0</td>\n",
       "      <td>0</td>\n",
       "      <td>0</td>\n",
       "      <td>0</td>\n",
       "      <td>0</td>\n",
       "      <td>0</td>\n",
       "      <td>0</td>\n",
       "      <td>0</td>\n",
       "      <td>...</td>\n",
       "      <td>0</td>\n",
       "      <td>1</td>\n",
       "      <td>0</td>\n",
       "      <td>0</td>\n",
       "      <td>0</td>\n",
       "      <td>0</td>\n",
       "      <td>0</td>\n",
       "      <td>1</td>\n",
       "      <td>0</td>\n",
       "      <td>1</td>\n",
       "    </tr>\n",
       "    <tr>\n",
       "      <th>1</th>\n",
       "      <td>agnosticism</td>\n",
       "      <td>0</td>\n",
       "      <td>0</td>\n",
       "      <td>0</td>\n",
       "      <td>1</td>\n",
       "      <td>0</td>\n",
       "      <td>0</td>\n",
       "      <td>0</td>\n",
       "      <td>0</td>\n",
       "      <td>0</td>\n",
       "      <td>...</td>\n",
       "      <td>1</td>\n",
       "      <td>0</td>\n",
       "      <td>0</td>\n",
       "      <td>0</td>\n",
       "      <td>0</td>\n",
       "      <td>0</td>\n",
       "      <td>0</td>\n",
       "      <td>1</td>\n",
       "      <td>0</td>\n",
       "      <td>1</td>\n",
       "    </tr>\n",
       "    <tr>\n",
       "      <th>7</th>\n",
       "      <td>christianity</td>\n",
       "      <td>0</td>\n",
       "      <td>0</td>\n",
       "      <td>1</td>\n",
       "      <td>0</td>\n",
       "      <td>0</td>\n",
       "      <td>0</td>\n",
       "      <td>0</td>\n",
       "      <td>0</td>\n",
       "      <td>0</td>\n",
       "      <td>...</td>\n",
       "      <td>1</td>\n",
       "      <td>0</td>\n",
       "      <td>0</td>\n",
       "      <td>0</td>\n",
       "      <td>0</td>\n",
       "      <td>0</td>\n",
       "      <td>0</td>\n",
       "      <td>1</td>\n",
       "      <td>0</td>\n",
       "      <td>1</td>\n",
       "    </tr>\n",
       "    <tr>\n",
       "      <th>9</th>\n",
       "      <td>atheism</td>\n",
       "      <td>0</td>\n",
       "      <td>0</td>\n",
       "      <td>0</td>\n",
       "      <td>1</td>\n",
       "      <td>0</td>\n",
       "      <td>0</td>\n",
       "      <td>0</td>\n",
       "      <td>0</td>\n",
       "      <td>0</td>\n",
       "      <td>...</td>\n",
       "      <td>1</td>\n",
       "      <td>0</td>\n",
       "      <td>0</td>\n",
       "      <td>0</td>\n",
       "      <td>0</td>\n",
       "      <td>0</td>\n",
       "      <td>0</td>\n",
       "      <td>1</td>\n",
       "      <td>1</td>\n",
       "      <td>0</td>\n",
       "    </tr>\n",
       "    <tr>\n",
       "      <th>11</th>\n",
       "      <td>christianity</td>\n",
       "      <td>0</td>\n",
       "      <td>1</td>\n",
       "      <td>0</td>\n",
       "      <td>0</td>\n",
       "      <td>0</td>\n",
       "      <td>0</td>\n",
       "      <td>0</td>\n",
       "      <td>0</td>\n",
       "      <td>0</td>\n",
       "      <td>...</td>\n",
       "      <td>1</td>\n",
       "      <td>0</td>\n",
       "      <td>0</td>\n",
       "      <td>0</td>\n",
       "      <td>0</td>\n",
       "      <td>0</td>\n",
       "      <td>0</td>\n",
       "      <td>1</td>\n",
       "      <td>1</td>\n",
       "      <td>0</td>\n",
       "    </tr>\n",
       "  </tbody>\n",
       "</table>\n",
       "<p>5 rows × 54 columns</p>\n",
       "</div>"
      ],
      "text/plain": [
       "        religion  age_18 to 24  age_25 to 29  age_30 to 34  age_35 to 39  \\\n",
       "0    agnosticism             1             0             0             0   \n",
       "1    agnosticism             0             0             0             1   \n",
       "7   christianity             0             0             1             0   \n",
       "9        atheism             0             0             0             1   \n",
       "11  christianity             0             1             0             0   \n",
       "\n",
       "    age_40 to 49  age_50 to 59  age_over 60  diet_anything  diet_halal  ...  \\\n",
       "0              0             0            0              0           0  ...   \n",
       "1              0             0            0              0           0  ...   \n",
       "7              0             0            0              0           0  ...   \n",
       "9              0             0            0              0           0  ...   \n",
       "11             0             0            0              0           0  ...   \n",
       "\n",
       "    smokes_no  smokes_sometimes  smokes_trying to quit  smokes_when drinking  \\\n",
       "0           0                 1                      0                     0   \n",
       "1           1                 0                      0                     0   \n",
       "7           1                 0                      0                     0   \n",
       "9           1                 0                      0                     0   \n",
       "11          1                 0                      0                     0   \n",
       "\n",
       "    smokes_yes  orientation_bisexual  orientation_gay  orientation_straight  \\\n",
       "0            0                     0                0                     1   \n",
       "1            0                     0                0                     1   \n",
       "7            0                     0                0                     1   \n",
       "9            0                     0                0                     1   \n",
       "11           0                     0                0                     1   \n",
       "\n",
       "    sign_not serious  sign_serious  \n",
       "0                  0             1  \n",
       "1                  0             1  \n",
       "7                  0             1  \n",
       "9                  1             0  \n",
       "11                 1             0  \n",
       "\n",
       "[5 rows x 54 columns]"
      ]
     },
     "execution_count": 226,
     "metadata": {},
     "output_type": "execute_result"
    }
   ],
   "source": [
    "labels.head()"
   ]
  },
  {
   "cell_type": "code",
   "execution_count": 231,
   "metadata": {},
   "outputs": [],
   "source": [
    "# labels.religion.value_counts()"
   ]
  },
  {
   "cell_type": "markdown",
   "metadata": {},
   "source": [
    "### *Solving the imbalance problem in the religion variable*"
   ]
  },
  {
   "cell_type": "code",
   "execution_count": 232,
   "metadata": {},
   "outputs": [
    {
     "name": "stdout",
     "output_type": "stream",
     "text": [
      "Int64Index([    0,     1,     7,     9,    11,    14,    18,    19,    20,\n",
      "               22,\n",
      "            ...\n",
      "            59918, 59920, 59925, 59928, 59929, 59930, 59936, 59942, 59943,\n",
      "            59944],\n",
      "           dtype='int64', length=16509)\n",
      "31509\n"
     ]
    }
   ],
   "source": [
    "# splitting the religion variable\n",
    "labels_maj =  labels[labels['religion'] == 'agnosticism']\n",
    "labels_min1 = labels[labels['religion'] == 'other']\n",
    "labels_min2 = labels[labels['religion'] == 'atheism']\n",
    "labels_min3 = labels[labels['religion'] == 'christianity']\n",
    "labels_min4 = labels[labels['religion'] == 'catholicism']\n",
    "labels_min5 = labels[labels['religion'] == 'judaism']\n",
    "labels_min6 = labels[labels['religion'] == 'buddhism']\n",
    "labels_min7 = labels[labels['religion'] == 'hinduism']\n",
    "labels_min8 = labels[labels['religion'] == 'islam']\n",
    "\n",
    "# using the resample tool\n",
    "maj_count = labels['religion'].value_counts()['agnosticism']\n",
    "labels_min1_up = resample(labels_min1, replace=True, n_samples=(maj_count), random_state=88)\n",
    "labels_min2_up = resample(labels_min2, replace=True, n_samples=(maj_count), random_state=88)\n",
    "labels_min3_up = resample(labels_min3, replace=True, n_samples=(maj_count), random_state=88)\n",
    "labels_min4_up = resample(labels_min4, replace=True, n_samples=(maj_count), random_state=88)\n",
    "labels_min5_up = resample(labels_min5, replace=True, n_samples=(maj_count), random_state=88)\n",
    "labels_min6_up = resample(labels_min6, replace=True, n_samples=(maj_count), random_state=88)\n",
    "labels_min7_up = resample(labels_min7, replace=True, n_samples=(maj_count), random_state=88)\n",
    "labels_min8_up = resample(labels_min8, replace=True, n_samples=(maj_count), random_state=88)\n",
    "\n",
    "labels_upsampled = pd.concat([labels_maj, labels_min1_up, labels_min2_up, labels_min3_up, labels_min4_up, labels_min5_up, labels_min6_up, labels_min7_up, labels_min8_up,])\n",
    "\n",
    "print(len(labels_upsampled))"
   ]
  },
  {
   "cell_type": "markdown",
   "metadata": {},
   "source": [
    "### *Splitting Data into Train-Test Sets*"
   ]
  },
  {
   "cell_type": "code",
   "execution_count": 233,
   "metadata": {},
   "outputs": [],
   "source": [
    "col_length = len(labels_upsampled.columns)\n",
    "\n",
    "X = labels_upsampled.iloc[:, 1: col_length]\n",
    "y = labels_upsampled.iloc[:, 0: 1]\n",
    "\n",
    "\n",
    "X_train, X_test, y_train, y_test = train_test_split(X, y, test_size=.25, random_state=0)\n",
    "\n",
    "y_train = np.ravel(y_train)\n",
    "y_test = np.ravel(y_test)"
   ]
  },
  {
   "cell_type": "markdown",
   "metadata": {},
   "source": [
    "### *Logistic Regression Model*"
   ]
  },
  {
   "cell_type": "code",
   "execution_count": 235,
   "metadata": {},
   "outputs": [
    {
     "name": "stdout",
     "output_type": "stream",
     "text": [
      "              precision    recall  f1-score   support\n",
      "\n",
      " agnosticism       0.23      0.07      0.11       865\n",
      "     atheism       0.27      0.33      0.30       852\n",
      "    buddhism       0.31      0.38      0.34       874\n",
      " catholicism       0.36      0.29      0.32       891\n",
      "christianity       0.32      0.20      0.25       879\n",
      "    hinduism       0.87      0.85      0.86       859\n",
      "       islam       0.74      0.77      0.76       876\n",
      "     judaism       0.27      0.57      0.36       923\n",
      "       other       0.23      0.15      0.18       859\n",
      "\n",
      "    accuracy                           0.40      7878\n",
      "   macro avg       0.40      0.40      0.39      7878\n",
      "weighted avg       0.40      0.40      0.39      7878\n",
      "\n"
     ]
    }
   ],
   "source": [
    "logistic_model = LogisticRegression(multi_class='multinomial', max_iter=500).fit(X_train, y_train)\n",
    "logistic_prediction = logistic_model.predict(X_test)\n",
    "\n",
    "\n",
    "print(classification_report(y_test, logistic_prediction))"
   ]
  },
  {
   "cell_type": "markdown",
   "metadata": {},
   "source": [
    "We get 40% of accuracy on Logistic Regression model"
   ]
  },
  {
   "cell_type": "markdown",
   "metadata": {},
   "source": [
    "### *KNeighbors Classifier*"
   ]
  },
  {
   "cell_type": "code",
   "execution_count": 242,
   "metadata": {},
   "outputs": [
    {
     "name": "stdout",
     "output_type": "stream",
     "text": [
      "The model scores are: \n",
      " [0.4843869002284844, 0.4546839299314547, 0.46344249809596344, 0.47105864432597105, 0.46496572734196495, 0.4676313785224676, 0.4744859101294745, 0.4732165524244732, 0.4676313785224676, 0.4675044427519675] \n",
      "\n"
     ]
    },
    {
     "data": {
      "image/png": "[encoded data removed]",
      "text/plain": [
       "<Figure size 432x288 with 1 Axes>"
      ]
     },
     "metadata": {},
     "output_type": "display_data"
    },
    {
     "data": {
      "text/plain": [
       "<Figure size 432x288 with 0 Axes>"
      ]
     },
     "metadata": {},
     "output_type": "display_data"
    }
   ],
   "source": [
    "scores = []\n",
    "for i in range(1, 11):\n",
    "    kneigh_model = KNeighborsClassifier(n_neighbors=i).fit(X_train, y_train)\n",
    "    scores.append(kneigh_model.score(X_test, y_test))\n",
    "\n",
    "print('The model scores are:', '\\n', scores, '\\n')\n",
    "\n",
    "sns.set(rc={'figure.figsize':(6, 4)})\n",
    "sns.scatterplot(x=range(1, 11), y=scores)\n",
    "plt.show()\n",
    "plt.clf()"
   ]
  },
  {
   "cell_type": "code",
   "execution_count": 244,
   "metadata": {},
   "outputs": [
    {
     "name": "stdout",
     "output_type": "stream",
     "text": [
      "              precision    recall  f1-score   support\n",
      "\n",
      " agnosticism       0.17      0.28      0.21       865\n",
      "     atheism       0.30      0.32      0.31       852\n",
      "    buddhism       0.47      0.60      0.53       874\n",
      " catholicism       0.38      0.38      0.38       891\n",
      "christianity       0.40      0.23      0.29       879\n",
      "    hinduism       0.93      0.95      0.94       859\n",
      "       islam       0.91      0.93      0.92       876\n",
      "     judaism       0.43      0.36      0.39       923\n",
      "       other       0.35      0.20      0.26       859\n",
      "\n",
      "    accuracy                           0.47      7878\n",
      "   macro avg       0.48      0.47      0.47      7878\n",
      "weighted avg       0.48      0.47      0.47      7878\n",
      "\n"
     ]
    }
   ],
   "source": [
    "kneigh_model = KNeighborsClassifier(n_neighbors=4).fit(X_train, y_train)\n",
    "kneigh_prediction = kneigh_model.predict(X_test)\n",
    "\n",
    "print(classification_report(y_test, kneigh_prediction))"
   ]
  },
  {
   "cell_type": "markdown",
   "metadata": {},
   "source": [
    "We get 47% of accuracy on Kneighbors model"
   ]
  },
  {
   "cell_type": "markdown",
   "metadata": {},
   "source": [
    "### *Decision Tree*"
   ]
  },
  {
   "cell_type": "code",
   "execution_count": 248,
   "metadata": {},
   "outputs": [
    {
     "name": "stdout",
     "output_type": "stream",
     "text": [
      "<bound method BaseDecisionTree.get_depth of DecisionTreeClassifier()> \n",
      "\n",
      "              precision    recall  f1-score   support\n",
      "\n",
      " agnosticism       0.28      0.16      0.21       865\n",
      "     atheism       0.43      0.39      0.41       852\n",
      "    buddhism       0.47      0.70      0.56       874\n",
      " catholicism       0.53      0.39      0.45       891\n",
      "christianity       0.42      0.34      0.37       879\n",
      "    hinduism       0.93      0.97      0.95       859\n",
      "       islam       0.95      0.93      0.94       876\n",
      "     judaism       0.35      0.64      0.46       923\n",
      "       other       0.51      0.31      0.39       859\n",
      "\n",
      "    accuracy                           0.54      7878\n",
      "   macro avg       0.54      0.54      0.53      7878\n",
      "weighted avg       0.54      0.54      0.53      7878\n",
      "\n"
     ]
    }
   ],
   "source": [
    "tree_model = DecisionTreeClassifier().fit(X_train, y_train)\n",
    "tree_prediction = tree_model.predict(X_test)\n",
    "\n",
    "print(tree_model.get_depth, '\\n')\n",
    "\n",
    "print(classification_report(y_test, tree_prediction))"
   ]
  },
  {
   "cell_type": "markdown",
   "metadata": {},
   "source": [
    "54% of accuracy on Decision Tree"
   ]
  },
  {
   "cell_type": "markdown",
   "metadata": {},
   "source": [
    "### *Random Forest Classifier*"
   ]
  },
  {
   "cell_type": "code",
   "execution_count": 252,
   "metadata": {},
   "outputs": [
    {
     "name": "stdout",
     "output_type": "stream",
     "text": [
      "High accuracy occur at 19 trees\n"
     ]
    },
    {
     "data": {
      "image/png": "[encoded data removed]",
      "text/plain": [
       "<Figure size 432x288 with 1 Axes>"
      ]
     },
     "metadata": {},
     "output_type": "display_data"
    },
    {
     "name": "stdout",
     "output_type": "stream",
     "text": [
      "              precision    recall  f1-score   support\n",
      "\n",
      " agnosticism       0.31      0.14      0.19       865\n",
      "     atheism       0.46      0.38      0.41       852\n",
      "    buddhism       0.49      0.69      0.57       874\n",
      " catholicism       0.53      0.41      0.46       891\n",
      "christianity       0.43      0.35      0.38       879\n",
      "    hinduism       0.94      0.97      0.95       859\n",
      "       islam       0.95      0.93      0.94       876\n",
      "     judaism       0.35      0.67      0.46       923\n",
      "       other       0.49      0.35      0.41       859\n",
      "\n",
      "    accuracy                           0.55      7878\n",
      "   macro avg       0.55      0.54      0.53      7878\n",
      "weighted avg       0.55      0.55      0.53      7878\n",
      "\n"
     ]
    },
    {
     "data": {
      "text/plain": [
       "<Figure size 432x288 with 0 Axes>"
      ]
     },
     "metadata": {},
     "output_type": "display_data"
    }
   ],
   "source": [
    "scores = []\n",
    "\n",
    "for i in range(1, 100):\n",
    "    forest = RandomForestClassifier(n_estimators=i, random_state=0)\n",
    "    forest.fit(X_train, y_train)\n",
    "    scores.append(forest.score(X_test, y_test))\n",
    "\n",
    "print('High accuracy occur at {} trees'.format(range(1, 100)[scores.index(max(scores))]))\n",
    "\n",
    "sns.set(rc={'figure.figsize':(6, 4)})\n",
    "sns.scatterplot(x=range(1, 100), y=scores)\n",
    "plt.show()\n",
    "plt.clf()\n",
    "# with this graph i could see that the best number of forest is 19\n",
    "\n",
    "forest_model = RandomForestClassifier(n_estimators=20, random_state=0).fit(X_train, y_train)\n",
    "forest_predictions = forest_model.predict(X_test)\n",
    "\n",
    "print(classification_report(y_test, forest_predictions))"
   ]
  },
  {
   "cell_type": "markdown",
   "metadata": {},
   "source": [
    "Random Forest Classifier have 55%  of acurracy"
   ]
  },
  {
   "cell_type": "code",
   "execution_count": 253,
   "metadata": {},
   "outputs": [
    {
     "name": "stdout",
     "output_type": "stream",
     "text": [
      "LogisticRegression\n",
      "Train Score: 41.03%\n",
      "Test Score: 40.04%\n",
      "\n",
      "\n",
      "KNeighborsClassifier\n",
      "Train Score: 56.15%\n",
      "Test Score: 47.11%\n",
      "\n",
      "\n",
      "DecisionTreeClassifier\n",
      "Train Score: 59.09%\n",
      "Test Score: 51.17%\n",
      "\n",
      "\n",
      "RandomForestClassifier\n",
      "Train Score: 63.64%\n",
      "Test Score: 54.63%\n",
      "\n",
      "\n"
     ]
    }
   ],
   "source": [
    "models = [LogisticRegression(max_iter=500), KNeighborsClassifier(n_neighbors=4), DecisionTreeClassifier(max_depth=20), RandomForestClassifier(n_estimators=19, random_state=0)]\n",
    "\n",
    "for model in models:\n",
    "    model.fit(X_train, y_train)\n",
    "    print('{}'.format(model.__class__.__name__))\n",
    "    print('Train Score: {:.2f}%'.format(model.score(X_train, y_train)*100))\n",
    "    print('Test Score: {:.2f}%'.format(model.score(X_test, y_test)*100))\n",
    "    print('\\n')"
   ]
  },
  {
   "cell_type": "code",
   "execution_count": 255,
   "metadata": {},
   "outputs": [
    {
     "data": {
      "image/png": "[encoded data removed]",
      "text/plain": [
       "<Figure size 720x576 with 2 Axes>"
      ]
     },
     "metadata": {},
     "output_type": "display_data"
    }
   ],
   "source": [
    "forest_confusion_matrix = confusion_matrix(y_test, forest_predictions)\n",
    "forest_labels = forest_model.classes_\n",
    "\n",
    "ax = plt.subplot()\n",
    "sns.set(rc={'figure.figsize':(10, 8)})\n",
    "sns.heatmap(forest_confusion_matrix, annot=True, ax=ax, fmt='d')\n",
    "plt.xlabel('Predict Labels')\n",
    "plt.ylabel('True Labels')\n",
    "plt.title('Confusion Matriz for 20 Random Forest iterators')\n",
    "ax.yaxis.set_tick_params(rotation=360)\n",
    "ax.xaxis.set_tick_params(rotation=90)\n",
    "ax.xaxis.set_ticklabels(forest_labels); \n",
    "ax.yaxis.set_ticklabels(forest_labels);"
   ]
  }
 ],
 "metadata": {
  "interpreter": {
   "hash": "be21668b11c80808b975a7c473596d14b4e02f2539e79ff9a8d980b389c6d87e"
  },
  "kernelspec": {
   "display_name": "Python 3.10.1 64-bit",
   "language": "python",
   "name": "python3"
  },
  "language_info": {
   "codemirror_mode": {
    "name": "ipython",
    "version": 3
   },
   "file_extension": ".py",
   "mimetype": "text/x-python",
   "name": "python",
   "nbconvert_exporter": "python",
   "pygments_lexer": "ipython3",
   "version": "3.10.1"
  }
 },
 "nbformat": 4,
 "nbformat_minor": 4
}
